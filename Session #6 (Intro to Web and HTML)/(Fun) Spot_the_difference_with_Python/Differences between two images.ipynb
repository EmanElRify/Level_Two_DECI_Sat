{
 "cells": [
  {
   "cell_type": "markdown",
   "metadata": {},
   "source": [
    "### Spot the difference code\n",
    "images source: https://github.com/kostasthanos/Spot-The-Differences/tree/main?tab=readme-ov-file\n"
   ]
  },
  {
   "cell_type": "code",
   "execution_count": 2,
   "metadata": {},
   "outputs": [
    {
     "data": {
      "text/plain": [
       "True"
      ]
     },
     "execution_count": 2,
     "metadata": {},
     "output_type": "execute_result"
    }
   ],
   "source": [
    "import cv2\n",
    "import numpy as np\n",
    "\n",
    "# Load images\n",
    "img1 = cv2.imread(\"img1.jpg\")\n",
    "img2 = cv2.imread(\"img2.jpg\")\n",
    "\n",
    "img1 = cv2.resize(img1, (921, 635))  # Replace width and height with desired dimensions\n",
    "img2 = cv2.resize(img2, (921, 635))\n",
    "# Convert images to grayscale\n",
    "gray1 = cv2.cvtColor(img1, cv2.COLOR_BGR2GRAY)\n",
    "gray2 = cv2.cvtColor(img2, cv2.COLOR_BGR2GRAY)\n",
    "# Resize images to the same dimensions\n",
    "\n",
    "# Compute absolute difference between the two grayscale images\n",
    "diff = cv2.absdiff(gray1, gray2)\n",
    "\n",
    "# Threshold the difference image to highlight areas with significant differences\n",
    "_, thresh = cv2.threshold(diff, 30, 255, cv2.THRESH_BINARY)\n",
    "kernel = np.ones((5,5),np.uint8)\n",
    "dilate = cv2.dilate(thresh, kernel,iterations=5)\n",
    "# Find contours\n",
    "contours, hierarchy = cv2.findContours(dilate, cv2.RETR_EXTERNAL, cv2.CHAIN_APPROX_SIMPLE)\n",
    "\n",
    "\n",
    "# Extract bounding box coordinates\n",
    "for contour in contours:\n",
    "    x, y, w, h = cv2.boundingRect(contour)\n",
    "    # Draw the bounding box on the original image\n",
    "    cv2.rectangle(img1, (x, y), (x + w, y + h), (0, 255, 0), 2)\n",
    "\n",
    "# Save the result\n",
    "cv2.imwrite(\"result_with_box.jpg\", img1)\n",
    "cv2.imwrite(\"result.jpg\", thresh)\n"
   ]
  },
  {
   "cell_type": "code",
   "execution_count": 5,
   "metadata": {},
   "outputs": [
    {
     "data": {
      "text/plain": [
       "['ABC']"
      ]
     },
     "execution_count": 5,
     "metadata": {},
     "output_type": "execute_result"
    }
   ],
   "source": [
    "mylist = [\"A\" \"B\" \"C\"]\n",
    "mylist"
   ]
  },
  {
   "cell_type": "code",
   "execution_count": null,
   "metadata": {},
   "outputs": [],
   "source": []
  }
 ],
 "metadata": {
  "kernelspec": {
   "display_name": "Python 3",
   "language": "python",
   "name": "python3"
  },
  "language_info": {
   "codemirror_mode": {
    "name": "ipython",
    "version": 3
   },
   "file_extension": ".py",
   "mimetype": "text/x-python",
   "name": "python",
   "nbconvert_exporter": "python",
   "pygments_lexer": "ipython3",
   "version": "3.10.7"
  }
 },
 "nbformat": 4,
 "nbformat_minor": 2
}

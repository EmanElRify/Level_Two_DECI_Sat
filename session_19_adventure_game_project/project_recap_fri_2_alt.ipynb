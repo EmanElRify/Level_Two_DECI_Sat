{
 "cells": [
  {
   "cell_type": "code",
   "execution_count": 5,
   "metadata": {},
   "outputs": [
    {
     "name": "stdout",
     "output_type": "stream",
     "text": [
      "Hello World\n",
      "Hello World\n",
      "Hello World\n",
      "Hello World\n",
      "Hello World\n"
     ]
    }
   ],
   "source": [
    "import time\n",
    "print(\"Hello World\")\n",
    "time.sleep(2)\n",
    "print(\"Hello World\")\n",
    "time.sleep(2)\n",
    "print(\"Hello World\")\n",
    "time.sleep(2)\n",
    "print(\"Hello World\")\n",
    "print(\"Hello World\")"
   ]
  },
  {
   "cell_type": "code",
   "execution_count": 6,
   "metadata": {},
   "outputs": [
    {
     "name": "stdout",
     "output_type": "stream",
     "text": [
      "Hello World\n",
      "Hello World\n",
      "Hello World\n",
      "Hello World\n",
      "Hello World\n"
     ]
    }
   ],
   "source": [
    "from time import sleep\n",
    "print(\"Hello World\")\n",
    "sleep(2)\n",
    "print(\"Hello World\")\n",
    "sleep(2)\n",
    "print(\"Hello World\")\n",
    "sleep(2)\n",
    "print(\"Hello World\")\n",
    "print(\"Hello World\")"
   ]
  },
  {
   "cell_type": "code",
   "execution_count": 7,
   "metadata": {},
   "outputs": [],
   "source": [
    "def print_pause(msg):\n",
    "    print(msg)\n",
    "    time.sleep(2)\n"
   ]
  },
  {
   "cell_type": "code",
   "execution_count": 8,
   "metadata": {},
   "outputs": [
    {
     "name": "stdout",
     "output_type": "stream",
     "text": [
      "Hello World\n",
      "Hello World\n",
      "Hello World\n",
      "Hello World\n",
      "Hello World\n"
     ]
    }
   ],
   "source": [
    "print_pause(\"Hello World\")\n",
    "print_pause(\"Hello World\")\n",
    "print_pause(\"Hello World\")\n",
    "print_pause(\"Hello World\")\n",
    "print_pause(\"Hello World\")"
   ]
  },
  {
   "cell_type": "code",
   "execution_count": 11,
   "metadata": {},
   "outputs": [
    {
     "name": "stdout",
     "output_type": "stream",
     "text": [
      "3\n"
     ]
    }
   ],
   "source": [
    "def add(a, b):\n",
    "    return a + b\n",
    "print(add(1,2))"
   ]
  },
  {
   "cell_type": "code",
   "execution_count": 18,
   "metadata": {},
   "outputs": [],
   "source": [
    "def add(*a):\n",
    "    sum = 0\n",
    "    for n in a:\n",
    "        sum += n\n",
    "    return sum\n"
   ]
  },
  {
   "cell_type": "code",
   "execution_count": 19,
   "metadata": {},
   "outputs": [
    {
     "name": "stdout",
     "output_type": "stream",
     "text": [
      "28\n"
     ]
    }
   ],
   "source": [
    "print(add(1,2,3,4,5,6,7))"
   ]
  },
  {
   "cell_type": "code",
   "execution_count": 23,
   "metadata": {},
   "outputs": [],
   "source": [
    "def print_pause(*msg):\n",
    "    for n in msg:\n",
    "        print(n)\n",
    "        time.sleep(2)\n"
   ]
  },
  {
   "cell_type": "code",
   "execution_count": 24,
   "metadata": {},
   "outputs": [
    {
     "name": "stdout",
     "output_type": "stream",
     "text": [
      "Hello\n",
      "World\n"
     ]
    }
   ],
   "source": [
    "print_pause(\"Hello\", \"World\")"
   ]
  },
  {
   "cell_type": "code",
   "execution_count": 37,
   "metadata": {},
   "outputs": [],
   "source": [
    "def game():\n",
    "    print(\"The game starts\")\n",
    "\n",
    "def check_score(score):\n",
    "    if score > 5 :\n",
    "        print(\"Congrats! You won!\")\n",
    "    else:\n",
    "        print(\"You lost!\")"
   ]
  },
  {
   "cell_type": "code",
   "execution_count": 41,
   "metadata": {},
   "outputs": [
    {
     "name": "stdout",
     "output_type": "stream",
     "text": [
      "The game starts\n",
      "You lost!\n",
      "Please enter valid inputs\n",
      "The game starts\n",
      "You lost!\n",
      "The game starts\n",
      "You lost!\n",
      "Please enter valid inputs\n",
      "Thanks for you time!\n"
     ]
    }
   ],
   "source": [
    "while True:\n",
    "    total_score = 0\n",
    "    game()\n",
    "    total_score += 1\n",
    "    total_score -= 1\n",
    "    check_score(total_score)\n",
    "    flag = input(\"Do you want to play again? [y/n]\").lower()\n",
    "    # n N no No nO NO yes YES yEs y Y \n",
    "    expected_inputs = ['y', 'n','no', 'yes']\n",
    "    while flag not in expected_inputs:\n",
    "        print(\"Please enter valid inputs\")\n",
    "        flag = input(\"Do you want to play again? [y/n]\").lower()\n",
    "    if flag == 'n' or flag == 'no':\n",
    "        print(\"Thanks for you time!\")\n",
    "        break\n",
    "\n",
    "\n"
   ]
  },
  {
   "cell_type": "code",
   "execution_count": null,
   "metadata": {},
   "outputs": [],
   "source": [
    "if True:\n",
    "    pass"
   ]
  },
  {
   "cell_type": "code",
   "execution_count": 45,
   "metadata": {},
   "outputs": [
    {
     "name": "stdout",
     "output_type": "stream",
     "text": [
      "Hello, World\n"
     ]
    }
   ],
   "source": [
    "print(\"Hello, \"\n",
    "      \"World\")"
   ]
  },
  {
   "cell_type": "code",
   "execution_count": null,
   "metadata": {},
   "outputs": [],
   "source": [
    "print_pause()\n",
    "PrintPause"
   ]
  },
  {
   "cell_type": "code",
   "execution_count": 30,
   "metadata": {},
   "outputs": [],
   "source": [
    "n = 2\n",
    "if True:\n",
    "    print(\"This condition is True\")"
   ]
  },
  {
   "cell_type": "code",
   "execution_count": 28,
   "metadata": {},
   "outputs": [
    {
     "name": "stdout",
     "output_type": "stream",
     "text": [
      "True\n"
     ]
    }
   ],
   "source": [
    "print(n > 1)"
   ]
  },
  {
   "cell_type": "code",
   "execution_count": null,
   "metadata": {},
   "outputs": [],
   "source": [
    "n = 5\n",
    "while n > 2:\n",
    "    print(n)\n",
    "    n -= 1\n",
    "    #5 4 3 "
   ]
  },
  {
   "cell_type": "code",
   "execution_count": 32,
   "metadata": {},
   "outputs": [
    {
     "name": "stdout",
     "output_type": "stream",
     "text": [
      "5\n",
      "4\n",
      "3\n",
      "2\n",
      "1\n"
     ]
    }
   ],
   "source": [
    "n = 5\n",
    "while True:\n",
    "    print(n)\n",
    "    n -= 1\n",
    "    if n == 0:\n",
    "        break"
   ]
  },
  {
   "cell_type": "code",
   "execution_count": null,
   "metadata": {},
   "outputs": [],
   "source": [
    "import random\n",
    "import time\n",
    "def deposit(balance, initial_balane):\n",
    "    return balance + initial_balane\n",
    "banks = [\"CIB\", \"QNB\"]\n",
    "bank = random.choice(banks)\n",
    "print(f\"Welcome to  {bank}\")\n",
    "account = input(\"Do you have a bank account? [y/n]\")\n",
    "\n"
   ]
  },
  {
   "cell_type": "code",
   "execution_count": 49,
   "metadata": {},
   "outputs": [
    {
     "name": "stdout",
     "output_type": "stream",
     "text": [
      "I have 5 apples\n",
      "I have 5 apples\n",
      "I have 5 apples\n",
      "I have 5 apples\n"
     ]
    }
   ],
   "source": [
    "n = 5\n",
    "print(\"I have \" + str(n) + \" apples\")\n",
    "print(\"I have %d apples\"%(n))\n",
    "print(\"I have {} apples\".format(n))\n",
    "print(f\"I have {n} apples\")"
   ]
  },
  {
   "cell_type": "code",
   "execution_count": null,
   "metadata": {},
   "outputs": [],
   "source": []
  }
 ],
 "metadata": {
  "kernelspec": {
   "display_name": "reacher",
   "language": "python",
   "name": "python3"
  },
  "language_info": {
   "codemirror_mode": {
    "name": "ipython",
    "version": 3
   },
   "file_extension": ".py",
   "mimetype": "text/x-python",
   "name": "python",
   "nbconvert_exporter": "python",
   "pygments_lexer": "ipython3",
   "version": "3.8.16"
  }
 },
 "nbformat": 4,
 "nbformat_minor": 2
}

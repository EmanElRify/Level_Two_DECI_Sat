{
 "cells": [
  {
   "cell_type": "code",
   "execution_count": 5,
   "metadata": {},
   "outputs": [
    {
     "name": "stdout",
     "output_type": "stream",
     "text": [
      "Hi\n",
      "My name is Islam\n",
      "I am a junior programmer\n"
     ]
    }
   ],
   "source": [
    "print(\"Hi\")\n",
    "print(\"My name is Islam\")\n",
    "print(\"I am a junior programmer\")"
   ]
  },
  {
   "cell_type": "code",
   "execution_count": 6,
   "metadata": {},
   "outputs": [
    {
     "name": "stdout",
     "output_type": "stream",
     "text": [
      "Hi\n",
      "My name is Islam\n",
      "I am a junior programmer\n"
     ]
    }
   ],
   "source": [
    "import time\n",
    "# from time import sleep\n",
    "print(\"Hi\")\n",
    "time.sleep(2)\n",
    "print(\"My name is Islam\")\n",
    "time.sleep(2)\n",
    "print(\"I am a junior programmer\")"
   ]
  },
  {
   "cell_type": "code",
   "execution_count": 7,
   "metadata": {},
   "outputs": [],
   "source": [
    "import time\n",
    "\n",
    "def delayed_print(s):\n",
    "    time.sleep(2)\n",
    "    print(s)"
   ]
  },
  {
   "cell_type": "code",
   "execution_count": 9,
   "metadata": {},
   "outputs": [
    {
     "name": "stdout",
     "output_type": "stream",
     "text": [
      "Hi\n",
      "My name is Islam\n",
      "I am a junior programmer\n"
     ]
    }
   ],
   "source": [
    "delayed_print(\"Hi\")\n",
    "delayed_print(\"My name is Islam\")\n",
    "delayed_print(\"I am a junior programmer\")"
   ]
  },
  {
   "cell_type": "code",
   "execution_count": 10,
   "metadata": {},
   "outputs": [
    {
     "name": "stdout",
     "output_type": "stream",
     "text": [
      "1 2 3 4 5 6\n"
     ]
    }
   ],
   "source": [
    "print(1, 2, 3, 4, 5, 6)"
   ]
  },
  {
   "cell_type": "code",
   "execution_count": 11,
   "metadata": {},
   "outputs": [],
   "source": [
    "import time\n",
    "\n",
    "def delayed_print(*s):\n",
    "    for word in s:\n",
    "        time.sleep(2)\n",
    "        print(word)"
   ]
  },
  {
   "cell_type": "code",
   "execution_count": 12,
   "metadata": {},
   "outputs": [
    {
     "name": "stdout",
     "output_type": "stream",
     "text": [
      "1\n",
      "2\n",
      "3\n",
      "4\n"
     ]
    }
   ],
   "source": [
    "delayed_print(1, 2, 3, 4)"
   ]
  },
  {
   "cell_type": "markdown",
   "metadata": {},
   "source": [
    "f(x) = x + 4\n",
    "f(2) = 6\n",
    "f(1) = 5"
   ]
  },
  {
   "cell_type": "code",
   "execution_count": 13,
   "metadata": {},
   "outputs": [
    {
     "name": "stdout",
     "output_type": "stream",
     "text": [
      "Hi\n",
      "My name is Islam\n",
      "I am a junior programmer\n"
     ]
    }
   ],
   "source": [
    "delayed_print(\"Hi\",\"My name is Islam\",\"I am a junior programmer\")\n"
   ]
  },
  {
   "cell_type": "code",
   "execution_count": 17,
   "metadata": {},
   "outputs": [],
   "source": [
    "def add(a, b):\n",
    "    print(\"Hello\")\n",
    "    return a + b"
   ]
  },
  {
   "cell_type": "code",
   "execution_count": 18,
   "metadata": {},
   "outputs": [
    {
     "name": "stdout",
     "output_type": "stream",
     "text": [
      "Hello\n",
      "4\n"
     ]
    }
   ],
   "source": [
    "print(add(1,3))"
   ]
  },
  {
   "cell_type": "code",
   "execution_count": 19,
   "metadata": {},
   "outputs": [
    {
     "name": "stdout",
     "output_type": "stream",
     "text": [
      "Hello\n"
     ]
    },
    {
     "data": {
      "text/plain": [
       "4"
      ]
     },
     "execution_count": 19,
     "metadata": {},
     "output_type": "execute_result"
    }
   ],
   "source": [
    "add(1,3)"
   ]
  },
  {
   "cell_type": "code",
   "execution_count": null,
   "metadata": {},
   "outputs": [],
   "source": [
    "def cave():\n",
    "    global item\n",
    "    item = 5"
   ]
  },
  {
   "cell_type": "code",
   "execution_count": 2,
   "metadata": {},
   "outputs": [],
   "source": [
    "def check_score(score):\n",
    "    if score > 5:\n",
    "        print(\"Congrats! you won!\")\n",
    "    else:\n",
    "        print(\"You lost!\")"
   ]
  },
  {
   "cell_type": "code",
   "execution_count": 4,
   "metadata": {},
   "outputs": [
    {
     "name": "stdout",
     "output_type": "stream",
     "text": [
      "Congrats! you won!\n",
      "Congrats! you won!\n",
      "Congrats! you won!\n"
     ]
    }
   ],
   "source": [
    "def forest():\n",
    "    \n",
    "    return 2\n",
    "\n",
    "while True:\n",
    "    print(\"The game starts\")\n",
    "    total_score = 5\n",
    "    turns = 0\n",
    "    n = input(\"choose a number\")\n",
    "    if n == '1':\n",
    "        total_score += forest()\n",
    "    elif n == '2':\n",
    "        total_score +=1\n",
    "    else:\n",
    "        total_score -= 1\n",
    "        \n",
    "    check_score(total_score)\n",
    "    flag = input(\"Do you want to play again?[y/n]\").lower() #y n yes no Y N Yes yEs No nO YES NO\n",
    "    while flag not in ['n', 'no', 'y', 'yes']:\n",
    "        flag = input(\"Do you want to play again?[y/n]\").lower()\n",
    "    if \"n\" in flag:\n",
    "        break\n",
    " "
   ]
  },
  {
   "cell_type": "code",
   "execution_count": 23,
   "metadata": {},
   "outputs": [
    {
     "name": "stdout",
     "output_type": "stream",
     "text": [
      "I have 5 apples\n"
     ]
    }
   ],
   "source": [
    "n = 5\n",
    "print(\"I have \" + str(n) + \" apples\")"
   ]
  },
  {
   "cell_type": "code",
   "execution_count": 24,
   "metadata": {},
   "outputs": [
    {
     "name": "stdout",
     "output_type": "stream",
     "text": [
      "I have 5 apples \n"
     ]
    }
   ],
   "source": [
    "print(\"I have %d apples \"%(n))"
   ]
  },
  {
   "cell_type": "code",
   "execution_count": 25,
   "metadata": {},
   "outputs": [
    {
     "name": "stdout",
     "output_type": "stream",
     "text": [
      "I have 5 apples\n"
     ]
    }
   ],
   "source": [
    "print(\"I have {} apples\".format(n))"
   ]
  },
  {
   "cell_type": "code",
   "execution_count": 26,
   "metadata": {},
   "outputs": [
    {
     "name": "stdout",
     "output_type": "stream",
     "text": [
      "I have 5 apples\n"
     ]
    }
   ],
   "source": [
    "print(f\"I have {n} apples\")"
   ]
  },
  {
   "cell_type": "code",
   "execution_count": 35,
   "metadata": {},
   "outputs": [
    {
     "name": "stdout",
     "output_type": "stream",
     "text": [
      "The condition is True\n",
      "5\n",
      "6\n",
      "7\n",
      "8\n",
      "9\n"
     ]
    }
   ],
   "source": [
    "n = 5\n",
    "if True:\n",
    "    print(\"The condition is True\")\n",
    "\n",
    "while True:\n",
    "    print(n)\n",
    "    n += 1\n",
    "    if n == 10:\n",
    "        break\n"
   ]
  },
  {
   "cell_type": "code",
   "execution_count": 7,
   "metadata": {},
   "outputs": [
    {
     "name": "stdout",
     "output_type": "stream",
     "text": [
      "Hello, World\n",
      "Hello, World\n"
     ]
    }
   ],
   "source": [
    "print(\"Hello, \" +\"World\")\n",
    "print(\"Hello, \"\n",
    "      \"World\")"
   ]
  },
  {
   "cell_type": "code",
   "execution_count": null,
   "metadata": {},
   "outputs": [],
   "source": [
    "import random\n",
    "import time\n",
    "banks = [\"CIB\", \"QNB\"]\n",
    "print(f\"Welcome to {random.choice(banks)}\")\n",
    "account = input(\"Do you have a bank account? [y/n]\")\n",
    "if account == 'n':\n",
    "    q = input"
   ]
  },
  {
   "cell_type": "code",
   "execution_count": 10,
   "metadata": {},
   "outputs": [
    {
     "name": "stdout",
     "output_type": "stream",
     "text": [
      "Jihad\n",
      "Aser\n",
      "AHmed\n"
     ]
    }
   ],
   "source": [
    "mydict = [\n",
    "    {\"name\":\"Jihad\", \"age\":15},\n",
    "    {\"name\":\"Aser\", \"age\":15},\n",
    "    {\"name\":\"AHmed\", \"age\":15}\n",
    "    ]\n",
    "for i in mydict:\n",
    "    print(i[\"name\"])"
   ]
  }
 ],
 "metadata": {
  "kernelspec": {
   "display_name": "reacher",
   "language": "python",
   "name": "python3"
  },
  "language_info": {
   "codemirror_mode": {
    "name": "ipython",
    "version": 3
   },
   "file_extension": ".py",
   "mimetype": "text/x-python",
   "name": "python",
   "nbconvert_exporter": "python",
   "pygments_lexer": "ipython3",
   "version": "3.8.16"
  }
 },
 "nbformat": 4,
 "nbformat_minor": 2
}

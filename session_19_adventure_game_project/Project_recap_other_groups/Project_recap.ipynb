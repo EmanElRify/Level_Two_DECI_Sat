{
 "cells": [
  {
   "cell_type": "code",
   "execution_count": 2,
   "metadata": {},
   "outputs": [
    {
     "name": "stdout",
     "output_type": "stream",
     "text": [
      "The randomly selected item is: elderberry\n"
     ]
    }
   ],
   "source": [
    "import random\n",
    "\n",
    "# Example list\n",
    "items = ['apple', 'banana', 'cherry', 'date', 'elderberry']\n",
    "\n",
    "# Choose a random item from the list\n",
    "random_item = random.choice(items)\n",
    "\n",
    "print(f\"The randomly selected item is: {random_item}\")\n"
   ]
  },
  {
   "cell_type": "code",
   "execution_count": 3,
   "metadata": {},
   "outputs": [
    {
     "name": "stdout",
     "output_type": "stream",
     "text": [
      "1 2 3 4 5\n"
     ]
    }
   ],
   "source": [
    "print(1,2,3,4,5)"
   ]
  },
  {
   "cell_type": "code",
   "execution_count": 5,
   "metadata": {},
   "outputs": [
    {
     "name": "stdout",
     "output_type": "stream",
     "text": [
      "Hello World\n",
      "Hello\n",
      "World\n"
     ]
    }
   ],
   "source": [
    "import time\n",
    "def paused_print(*s): #(\"Hello\", \"World\")\n",
    "    for word in s:\n",
    "        print(word)\n",
    "        time.sleep(2)\n",
    "        \n",
    "print(\"Hello\", \"World\")\n",
    "paused_print(\"Hello\", \"World\")\n",
    "        "
   ]
  },
  {
   "cell_type": "code",
   "execution_count": 6,
   "metadata": {},
   "outputs": [
    {
     "name": "stdout",
     "output_type": "stream",
     "text": [
      "You are going to the forest and find a strange creature\n"
     ]
    }
   ],
   "source": [
    "n = input(\"Choose a number: \")\n",
    "while n not in [\"1\", \"2\"]:\n",
    "    n = input(\"Choose a number: \")\n",
    "\n",
    "if n == \"1\":\n",
    "    print(\"You are going to the forest and find a strange creature\")\n",
    "elif n == \"2\":\n",
    "    print(\"You are going to the cliff and find a strange creature\")\n"
   ]
  },
  {
   "cell_type": "code",
   "execution_count": 7,
   "metadata": {},
   "outputs": [
    {
     "name": "stdout",
     "output_type": "stream",
     "text": [
      "1\n",
      "2\n",
      "3\n",
      "4\n",
      "5\n"
     ]
    }
   ],
   "source": [
    "i = 0\n",
    "while True:\n",
    "    i += 1\n",
    "    print(i)\n",
    "    if i == 5:\n",
    "        break"
   ]
  },
  {
   "cell_type": "code",
   "execution_count": 9,
   "metadata": {},
   "outputs": [
    {
     "name": "stdout",
     "output_type": "stream",
     "text": [
      "1.room 1\n",
      "2.room 2\n"
     ]
    }
   ],
   "source": [
    "print(\"1.room 1\")\n",
    "print(\"2.room 2\")\n",
    "choice = input(\"choose 1 or 2\")\n",
    "choice = input()\n",
    "Q_ = \"Choose your action by typing the number corresponding to your choice.\"\n",
    "\n",
    "while choice not in [\"1\", \"2\"]:\n",
    "    choice = input(Q_ + \"\\choice\")"
   ]
  },
  {
   "cell_type": "code",
   "execution_count": 11,
   "metadata": {},
   "outputs": [
    {
     "name": "stdout",
     "output_type": "stream",
     "text": [
      "The game starts\n",
      "The game starts\n",
      "The game starts\n"
     ]
    }
   ],
   "source": [
    "while True:\n",
    "    print(\"The game starts\") \n",
    "    flag = \"0\"\n",
    "    while flag not in [\"n\", \"y\", \"no\", \"yes\"]:\n",
    "        flag = input(\"Do you want to play again? [y/n]\")\n",
    "        flag = flag.lower()\n",
    "\n",
    "    if flag == \"n\" or flag == \"no\":\n",
    "        break"
   ]
  },
  {
   "cell_type": "code",
   "execution_count": 12,
   "metadata": {},
   "outputs": [
    {
     "name": "stdout",
     "output_type": "stream",
     "text": [
      "5\n",
      "7\n"
     ]
    }
   ],
   "source": [
    "def cave():\n",
    "    # things that happen when the player enter the cave\n",
    "    return 2\n",
    "\n",
    "total_score = 5\n",
    "print(total_score)\n",
    "n = input(\"Do you want to enter the cave?\")\n",
    "if n == 'yes':\n",
    "    total_score += cave()\n",
    "print(total_score)"
   ]
  },
  {
   "cell_type": "code",
   "execution_count": 13,
   "metadata": {},
   "outputs": [],
   "source": [
    "def check_score(score, turns):\n",
    "    if score >= 10:\n",
    "        print(\"Congrats! You won!\")\n",
    "    else:\n",
    "        print(\"Unfortunetly, you lost!\")"
   ]
  },
  {
   "cell_type": "code",
   "execution_count": 14,
   "metadata": {},
   "outputs": [
    {
     "name": "stdout",
     "output_type": "stream",
     "text": [
      "Unfortunetly, you lost!\n"
     ]
    }
   ],
   "source": [
    "check_score(5,1)"
   ]
  },
  {
   "cell_type": "code",
   "execution_count": 15,
   "metadata": {},
   "outputs": [
    {
     "data": {
      "text/plain": [
       "'Hello World'"
      ]
     },
     "execution_count": 15,
     "metadata": {},
     "output_type": "execute_result"
    }
   ],
   "source": [
    "\"Hello\" + \" World\""
   ]
  },
  {
   "cell_type": "code",
   "execution_count": 16,
   "metadata": {},
   "outputs": [
    {
     "data": {
      "text/plain": [
       "'Hello World'"
      ]
     },
     "execution_count": 16,
     "metadata": {},
     "output_type": "execute_result"
    }
   ],
   "source": [
    "\"Hello\"  \" World\""
   ]
  }
 ],
 "metadata": {
  "kernelspec": {
   "display_name": "Python 3",
   "language": "python",
   "name": "python3"
  },
  "language_info": {
   "codemirror_mode": {
    "name": "ipython",
    "version": 3
   },
   "file_extension": ".py",
   "mimetype": "text/x-python",
   "name": "python",
   "nbconvert_exporter": "python",
   "pygments_lexer": "ipython3",
   "version": "3.10.7"
  }
 },
 "nbformat": 4,
 "nbformat_minor": 2
}

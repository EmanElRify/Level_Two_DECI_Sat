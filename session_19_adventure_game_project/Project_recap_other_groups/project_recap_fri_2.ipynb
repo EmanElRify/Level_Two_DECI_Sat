{
 "cells": [
  {
   "cell_type": "code",
   "execution_count": 1,
   "metadata": {},
   "outputs": [
    {
     "name": "stdout",
     "output_type": "stream",
     "text": [
      "1 2 3 4\n"
     ]
    }
   ],
   "source": [
    "print(1, 2, 3, 4)"
   ]
  },
  {
   "cell_type": "code",
   "execution_count": 3,
   "metadata": {},
   "outputs": [
    {
     "name": "stdout",
     "output_type": "stream",
     "text": [
      "The game starts\n",
      "You are on an isolated island\n"
     ]
    }
   ],
   "source": [
    "import time\n",
    "\n",
    "def print_pause(*s):\n",
    "    for word in s:\n",
    "        print(word) \n",
    "        time.sleep(2) \n",
    "        \n",
    "print_pause(\"The game starts\", \"You are on an isolated island\")\n"
   ]
  },
  {
   "cell_type": "code",
   "execution_count": null,
   "metadata": {},
   "outputs": [],
   "source": [
    "import random\n",
    "import time\n",
    "banks = [\"CIB\", \"NBE\"]\n",
    "print(f\"Welcom to {random.choice(banks)} \")\n",
    "time.sleep(2)\n",
    "service = input(\"Do you want to open a bank account? [y/n]\")\n",
    "while service not in ['y', 'n', 'yes', 'no']:\n",
    "    service = input(\"Do you want to open a bank account? [y/n]\")\n",
    "if service == 'y' or \n",
    "def deposit(balance, initial_balance):\n",
    "    \"\"\"\n",
    "    \n",
    "    @\n",
    "    \"\"\""
   ]
  },
  {
   "cell_type": "code",
   "execution_count": 10,
   "metadata": {},
   "outputs": [
    {
     "name": "stdout",
     "output_type": "stream",
     "text": [
      "You are going to the mansion of a prince\n",
      "You heard a voice\n"
     ]
    }
   ],
   "source": [
    "import random\n",
    "import time\n",
    "\n",
    "def beast():\n",
    "    pass\n",
    "\n",
    "\n",
    "def voice():\n",
    "    # \n",
    "    pass\n",
    "\n",
    "\n",
    "horror = ['A beast opened the door', 'You heard a voice']\n",
    "item = random.choice(horror)\n",
    "print_pause(\"You are going to the mansion of a prince\")\n",
    "print_pause(item)\n",
    "if \"beast\" in item:\n",
    "    beast()\n",
    "else:\n",
    "    voice()"
   ]
  },
  {
   "cell_type": "code",
   "execution_count": 4,
   "metadata": {},
   "outputs": [
    {
     "name": "stdout",
     "output_type": "stream",
     "text": [
      "Hello World\n",
      "Hello\n",
      "World\n"
     ]
    }
   ],
   "source": [
    "print(\"Hello\", \"World\")\n",
    "print_pause(\"Hello\", \"World\")"
   ]
  },
  {
   "cell_type": "code",
   "execution_count": 15,
   "metadata": {},
   "outputs": [
    {
     "name": "stdout",
     "output_type": "stream",
     "text": [
      "You have 3 apples\n",
      "You have 3 apples\n",
      "You have 3 apples\n",
      "You have 3 apples\n"
     ]
    }
   ],
   "source": [
    "n = int(input(\"How many apples do you have?\"))\n",
    "print(\"You have \" + str(n) + \" apples\")\n",
    "print(f\"You have {n} apples\") #use this\n",
    "print(\"You have {} apples\".format(n))\n",
    "print(\"You have %d apples\"%(n))"
   ]
  },
  {
   "cell_type": "code",
   "execution_count": 17,
   "metadata": {},
   "outputs": [
    {
     "name": "stdout",
     "output_type": "stream",
     "text": [
      "the game starts\n",
      "the game starts\n",
      "the game starts\n",
      "the game starts\n"
     ]
    }
   ],
   "source": [
    "while True: \n",
    "    #repeat the game until a condition is True\n",
    "    print(\"the game starts\")\n",
    "    flag = input(\"Do you want to play again? [n/y]\")\n",
    "    flag = flag.lower()\n",
    "    while flag not in ['yes', 'no', 'n', 'y']: \n",
    "        # handling the invalid inputs\n",
    "        flag = input(\"Do you want to play again? [n/y]\")\n",
    "        flag = flag.lower()\n",
    "    if flag == 'n' or flag == 'no': \n",
    "        # a condition to break the game\n",
    "        break\n",
    "    "
   ]
  },
  {
   "cell_type": "code",
   "execution_count": 22,
   "metadata": {},
   "outputs": [
    {
     "name": "stdout",
     "output_type": "stream",
     "text": [
      "Hello, World\n",
      "Hello World\n"
     ]
    }
   ],
   "source": [
    "s1 = \"Hello,\"\n",
    "s2 = \" World\"\n",
    "print(s1 + s2)\n",
    "print(\"Hello\"\n",
    "      \" World\")"
   ]
  },
  {
   "cell_type": "code",
   "execution_count": 11,
   "metadata": {},
   "outputs": [
    {
     "name": "stdout",
     "output_type": "stream",
     "text": [
      "Hello,. You are 15 years old.\n"
     ]
    }
   ],
   "source": [
    "age = 15\n",
    "formatted_string = \"Hello,. You are %d years old.\" % ( age) \n",
    "print(formatted_string)"
   ]
  },
  {
   "cell_type": "code",
   "execution_count": 23,
   "metadata": {},
   "outputs": [
    {
     "name": "stdout",
     "output_type": "stream",
     "text": [
      "1\n"
     ]
    }
   ],
   "source": [
    "n = input(\"Choose 1 or 2\\n\")\n",
    "while n not in [\"1\", \"2\"]:\n",
    "    n = input(\"Choose 1 or 2\\n\")\n",
    "print(n)"
   ]
  },
  {
   "cell_type": "code",
   "execution_count": null,
   "metadata": {},
   "outputs": [],
   "source": [
    "def game():\n",
    "    pass\n"
   ]
  }
 ],
 "metadata": {
  "kernelspec": {
   "display_name": "reacher",
   "language": "python",
   "name": "python3"
  },
  "language_info": {
   "codemirror_mode": {
    "name": "ipython",
    "version": 3
   },
   "file_extension": ".py",
   "mimetype": "text/x-python",
   "name": "python",
   "nbconvert_exporter": "python",
   "pygments_lexer": "ipython3",
   "version": "3.10.7"
  }
 },
 "nbformat": 4,
 "nbformat_minor": 2
}

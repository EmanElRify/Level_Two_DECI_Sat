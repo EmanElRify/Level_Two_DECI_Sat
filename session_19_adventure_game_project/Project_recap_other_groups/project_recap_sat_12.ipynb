{
 "cells": [
  {
   "cell_type": "code",
   "execution_count": 21,
   "metadata": {},
   "outputs": [],
   "source": [
    "# from time import sleep\n",
    "# sleep(2)\n",
    "import time\n",
    "#functions\n",
    "def delayed_print(*s):\n",
    "    for i in s:\n",
    "        print(i)\n",
    "        time.sleep(2)\n"
   ]
  },
  {
   "cell_type": "code",
   "execution_count": 22,
   "metadata": {},
   "outputs": [
    {
     "name": "stdout",
     "output_type": "stream",
     "text": [
      "1\n",
      "2\n",
      "3\n",
      "4\n",
      "5\n",
      "6\n",
      "7\n",
      "8\n"
     ]
    }
   ],
   "source": [
    "delayed_print(1, 2, 3, 4, 5, 6, 7, 8)"
   ]
  },
  {
   "cell_type": "code",
   "execution_count": 2,
   "metadata": {},
   "outputs": [
    {
     "name": "stdout",
     "output_type": "stream",
     "text": [
      "Congrats! You won the game!\n"
     ]
    }
   ],
   "source": [
    "def forest():\n",
    "    return 3\n",
    "def check_score(score):\n",
    "    if score > 5:\n",
    "        print(\"Congrats! You won the game!\")\n",
    "    else:\n",
    "        print(\"Unfortunately, you lost!\")\n",
    "total_score = 5\n",
    "total_score -= 1\n",
    "total_score += forest()\n",
    "total_score += 1\n",
    "check_score(total_score)"
   ]
  },
  {
   "cell_type": "code",
   "execution_count": 18,
   "metadata": {},
   "outputs": [
    {
     "name": "stdout",
     "output_type": "stream",
     "text": [
      "1 2 3 4 5 6 7 8\n"
     ]
    }
   ],
   "source": [
    "print(1, 2, 3, 4, 5, 6, 7, 8)"
   ]
  },
  {
   "cell_type": "code",
   "execution_count": 7,
   "metadata": {},
   "outputs": [
    {
     "name": "stdout",
     "output_type": "stream",
     "text": [
      "Hello World\n",
      "5\n",
      "Hello World\n",
      "Hello World\n"
     ]
    },
    {
     "data": {
      "text/plain": [
       "5"
      ]
     },
     "execution_count": 7,
     "metadata": {},
     "output_type": "execute_result"
    }
   ],
   "source": [
    "print(delayed_print(\"Hello World\"))\n",
    "delayed_print(\"Hello World\")\n",
    "delayed_print(\"Hello World\")"
   ]
  },
  {
   "cell_type": "code",
   "execution_count": 19,
   "metadata": {},
   "outputs": [],
   "source": [
    "def add(*a):\n",
    "    sum = 0\n",
    "    for i in a:\n",
    "        sum += i\n",
    "    return sum"
   ]
  },
  {
   "cell_type": "code",
   "execution_count": 20,
   "metadata": {},
   "outputs": [
    {
     "data": {
      "text/plain": [
       "6"
      ]
     },
     "execution_count": 20,
     "metadata": {},
     "output_type": "execute_result"
    }
   ],
   "source": [
    "add(1, 2, 3)"
   ]
  },
  {
   "cell_type": "code",
   "execution_count": 12,
   "metadata": {},
   "outputs": [
    {
     "name": "stdout",
     "output_type": "stream",
     "text": [
      "3\n"
     ]
    }
   ],
   "source": [
    "print(6 - add(1,2))"
   ]
  },
  {
   "cell_type": "code",
   "execution_count": 1,
   "metadata": {},
   "outputs": [
    {
     "name": "stdout",
     "output_type": "stream",
     "text": [
      "Hello World\n"
     ]
    }
   ],
   "source": [
    "print(\"Hello World\")"
   ]
  },
  {
   "cell_type": "code",
   "execution_count": 33,
   "metadata": {},
   "outputs": [
    {
     "name": "stdout",
     "output_type": "stream",
     "text": [
      "Hello\n"
     ]
    },
    {
     "name": "stdout",
     "output_type": "stream",
     "text": [
      "Hello\n",
      "Hello\n"
     ]
    }
   ],
   "source": [
    "while True:\n",
    "    print(\"Hello\")\n",
    "    n = input(\"Do you want to break the loop? [y/n]\")\n",
    "    if n == 'y':\n",
    "        break"
   ]
  },
  {
   "cell_type": "code",
   "execution_count": 3,
   "metadata": {},
   "outputs": [
    {
     "name": "stdout",
     "output_type": "stream",
     "text": [
      "the game starts\n",
      "Unfortunately, you lost!\n",
      "Thank You!\n",
      "the game starts\n",
      "Unfortunately, you lost!\n",
      "Thank You!\n",
      "the game starts\n",
      "Unfortunately, you lost!\n",
      "Thank You!\n",
      "the game starts\n",
      "Unfortunately, you lost!\n"
     ]
    }
   ],
   "source": [
    "while True:\n",
    "    print(\"the game starts\")\n",
    "    total_score = 5\n",
    "    check_score(total_score)\n",
    "    flag = input(\"Do you want to play the game again? [y/n]\")\n",
    "    # n N no No NO nO\n",
    "    flag = flag.lower()\n",
    "    while flag not in [\"yes\", \"no\", \"n\", \"y\"]:\n",
    "        flag = input(\"Do you want to play the game again? [y/n]\")\n",
    "        flag = flag.lower()\n",
    "    if flag == 'n' or flag == 'no':\n",
    "        break\n",
    "    print(\"Thank You!\")\n"
   ]
  },
  {
   "cell_type": "code",
   "execution_count": 9,
   "metadata": {},
   "outputs": [
    {
     "name": "stdout",
     "output_type": "stream",
     "text": [
      "Hello, World\n",
      "Hello, World\n"
     ]
    }
   ],
   "source": [
    "s1 = \"Hello, \"\n",
    "s2 = \"World\"\n",
    "print(s1+s2)\n",
    "print(\"Hello, \"\n",
    "      \"World\")"
   ]
  },
  {
   "cell_type": "code",
   "execution_count": null,
   "metadata": {},
   "outputs": [],
   "source": [
    "import time\n",
    "import random\n",
    "\n",
    "banks = [\"CIB\", \"NBE\", \"QNB\"]\n",
    "random_bank = random.choice(banks)\n",
    "print(f\"Welcome to {random_bank}\")\n",
    "n = input(\"Do you want to open an account? [y/n]\").lower()\n",
    "while n not in [\"yes\", \"no\", \"n\", \"y\"]:\n",
    "    n = input(\"Do you want to open an account? [y/n]\").lower()\n",
    "if n == \"y\":\n",
    "    pass\n",
    "\n",
    "def deposit(initial_balance):\n",
    "    i = input(\"How much balance do you want to deposit? \")\n",
    "    balance = int(i)\n",
    "    return balance + initial_balance\n"
   ]
  }
 ],
 "metadata": {
  "kernelspec": {
   "display_name": "reacher",
   "language": "python",
   "name": "python3"
  },
  "language_info": {
   "codemirror_mode": {
    "name": "ipython",
    "version": 3
   },
   "file_extension": ".py",
   "mimetype": "text/x-python",
   "name": "python",
   "nbconvert_exporter": "python",
   "pygments_lexer": "ipython3",
   "version": "3.8.16"
  }
 },
 "nbformat": 4,
 "nbformat_minor": 2
}

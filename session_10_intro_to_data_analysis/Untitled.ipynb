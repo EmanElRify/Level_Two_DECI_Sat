{
 "cells": [
  {
   "cell_type": "code",
   "execution_count": null,
   "id": "c4a8a55d-6b38-4dca-b38f-857b58ea512e",
   "metadata": {},
   "outputs": [],
   "source": []
  }
 ],
 "metadata": {
  "kernelspec": {
   "display_name": "Python [conda env:miniconda3-reacher]",
   "language": "python",
   "name": "conda-env-miniconda3-reacher-py"
  },
  "language_info": {
   "codemirror_mode": {
    "name": "ipython",
    "version": 3
   },
   "file_extension": ".py",
   "mimetype": "text/x-python",
   "name": "python",
   "nbconvert_exporter": "python",
   "pygments_lexer": "ipython3",
   "version": "3.8.16"
  }
 },
 "nbformat": 4,
 "nbformat_minor": 5
}

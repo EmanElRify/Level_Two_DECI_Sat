{
 "cells": [
  {
   "attachments": {},
   "cell_type": "markdown",
   "metadata": {},
   "source": [
    "\n",
    "Please customize the introduction, data explatory and the conclusion based on your queries.\n",
    "Note: Number of unique students = 55 however the code works on the overall 300 index.\n",
    "<div style=\"text-align: right\"  dir=\"rtl\"> \n",
    "\n",
    "- [لينك جوجل كولاب لتحليل بيانات الطلاب](https://colab.research.google.com/drive/1PKuMKW8ZSzsAUfr6KelzWJe0s3Pm-pyn?usp=sharing)\n",
    "\n",
    "- [طريقة تشغيل النوتبوك](https://drive.google.com/file/d/1eho8GqlB6wp1YcQxw3z-3Ha24kcuQ8Hy/view?usp=sharing)\n",
    "\n",
    "- [تسطيب jupyterLab](https://jupyter.org/install)\n",
    "\n",
    "- [Markdown Cheat sheet](https://www.markdownguide.org/cheat-sheet/)\n",
    "\n",
    "- [Get started with Matplotlib](https://www.w3schools.com/python/matplotlib_getting_started.asp)\n",
    "\n",
    "</div>"
   ]
  },
  {
   "cell_type": "markdown",
   "metadata": {},
   "source": [
    "# Step 1: Load the Dataset\n",
    "import pandas as pd\n",
    "data = pd.read_csv('customer_transactions.csv')\n",
    "# Step 2: Initial Data Inspection\n",
    "data.head()\n",
    "# Step 3: Identify Missing Values\n",
    "missing_values = data.isnull().sum()\n",
    "# Step 4: Handle Missing Values\n",
    "# Example: Remove rows with missing values\n",
    "data_cleaned = data.dropna()\n",
    "# Step 5: Identify and Handle Outliers\n",
    "# Example: Remove outliers using the IQR method\n",
    "Q1 = data_cleaned['Quantity'].quantile(0.25)\n",
    "Q3 = data_cleaned['Quantity'].quantile(0.75)\n",
    "IQR = Q3 - Q1\n",
    "data_cleaned = data_cleaned[(data_cleaned['Quantity'] >= Q1 - 1.5*IQR) & (data_cleaned['Quantity'] <= Q3 + 1.5*IQR)]\n",
    "# Step 6: Data Type Conversion\n",
    "data_cleaned['Date'] = pd.to_datetime(data_cleaned['Date'])\n",
    "# Step 7: Data Cleaning (e.g., removing duplicates, standardizing text)\n",
    "data_cleaned = data_cleaned.drop_duplicates()\n",
    "data_cleaned['Product'] = data_cleaned['Product'].str.upper()\n",
    "# Step 8: Save the Cleaned Dataset\n",
    "data_cleaned.to_csv('cleaned_customer_transactions.csv', index=False)\n"
   ]
  }
 ],
 "metadata": {
  "kernelspec": {
   "display_name": "Python 3",
   "language": "python",
   "name": "python3"
  },
  "language_info": {
   "codemirror_mode": {
    "name": "ipython",
    "version": 3
   },
   "file_extension": ".py",
   "mimetype": "text/x-python",
   "name": "python",
   "nbconvert_exporter": "python",
   "pygments_lexer": "ipython3",
   "version": "3.10.7"
  },
  "orig_nbformat": 4
 },
 "nbformat": 4,
 "nbformat_minor": 2
}

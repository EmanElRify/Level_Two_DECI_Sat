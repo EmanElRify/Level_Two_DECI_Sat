{
 "cells": [
  {
   "cell_type": "markdown",
   "id": "e547ec17-08f8-4c82-a4b3-431387cfe00e",
   "metadata": {},
   "source": [
    "# Week 10 - Data Analysis"
   ]
  },
  {
   "cell_type": "markdown",
   "id": "f11cd54b-69f9-4096-975b-d045c9b52e21",
   "metadata": {},
   "source": [
    "# Workflow"
   ]
  },
  {
   "cell_type": "markdown",
   "id": "aa9f2730-89b2-4525-bad6-cb64adc6f530",
   "metadata": {},
   "source": [
    "## Step 1: Load the Dataset"
   ]
  },
  {
   "cell_type": "code",
   "execution_count": null,
   "id": "8cac074c-89c2-4224-96f0-90bcd258344f",
   "metadata": {},
   "outputs": [],
   "source": [
    "import pandas as pd\n",
    "data = pd.read_csv('dataset.csv')"
   ]
  },
  {
   "cell_type": "markdown",
   "id": "46fd6e6e-b489-45e6-8614-151b03a4b70d",
   "metadata": {},
   "source": [
    "## Step 2: Initial Data Inspection"
   ]
  },
  {
   "cell_type": "code",
   "execution_count": null,
   "id": "79d1bb56-8dc1-4d0b-a450-9db959f5d3a5",
   "metadata": {},
   "outputs": [],
   "source": [
    "data.head()"
   ]
  },
  {
   "cell_type": "code",
   "execution_count": null,
   "id": "52baf667-9a70-4aae-bbef-14f0e2038703",
   "metadata": {},
   "outputs": [],
   "source": [
    "data.tail()"
   ]
  },
  {
   "cell_type": "code",
   "execution_count": null,
   "id": "d801e82d-4e3b-476c-8b3a-e90c57248d13",
   "metadata": {},
   "outputs": [],
   "source": [
    "data.info()"
   ]
  },
  {
   "cell_type": "code",
   "execution_count": null,
   "id": "227e7824-3abd-490c-926f-7bc92bdd88ad",
   "metadata": {},
   "outputs": [],
   "source": [
    "data.describe()"
   ]
  },
  {
   "cell_type": "markdown",
   "id": "10db003c-577a-41d7-a5ca-d58390418a9f",
   "metadata": {},
   "source": [
    "- Mean:\n",
    "  >also known as the **average**, is the sum of all values in a dataset **divided** by the total number of values. \n",
    "It represents the central tendency of the data. Mathematically,\n",
    "  >it is calculated as:\n",
    "  > - Mean (average) = Sum of all values / Total number of values\n",
    "- المتوسط:\n",
    "  > هو مجموع جميع القيم في مجموعة البيانات **مقسوماً** على إجمالي عدد القيم. يُمثّل هذا المقدار الميل المركزي للبيانات. رياضياً،\n",
    "  > يُحسب كما يلي:\r\n",
    "  المتوسط (المتوسط) = مجموع جميع القيم / إجمالي عدد القيم\n",
    "\n",
    "\n",
    "- Standard Deviation (std)\n",
    "  > measures the dispersion or spread of the data points around the mean. It indicates how much individual data points deviate from the mean. A higher standard deviation indicates greater variability in the dataset\n",
    "- الانحراف المعياري \n",
    "  >  يقيس تشتت أو انتشار نقاط البيانات حول المتوسط. يُشير إلى مدى انحراف البيانات الفردية عن المتوسط. قيمة الانحراف المعياري الأعلى تُشير إلى وجود تباين أكبر في مجموعة البيانات..\n",
    "\n",
    "- Percentiles\n",
    "  > Percentiles are specific points in a dataset that divide the data into 100 equal parts\n",
    "-  النسب المئوية : هي نقاط محددة في مجموعة البيانات تقسم البيانات إلى 100 أجزاء متساوية..\n",
    "\n",
    "    - 25th Percentile (Q1)\n",
    "   > The value below which 25% of the data points fall. It represents the lower quartile\n",
    "    -  النسبة المئوية الـ 25 (الربع الأول - Q1):\n",
    "    >   هي القيمة التي تحتها يقع 25% من نقاط البيانات. وتُمثل الربع الأول من البيانات..\n",
    "\n",
    "    - 50th Percentile (Q2)\n",
    "      >  The value below which 50% of the data points fall. It is also known as the median. Half of the data points lie below and half lie above the median\n",
    "    -  النسبة المئوية الـ 50 (الربع الثاني - Q2):\n",
    "        > هي القيمة التي تحتها يقع 50% من نقاط البيانات. وهي معروفة أيضاً باسم الوسيط. حيث تقع نصف نقاط البيانات أدناها ونصفها أعلاها..\n",
    "\n",
    "    - 75th Percentile (Q3)\n",
    "      >  The value below which 75% of the data points fall. It represents the upper quartile\n",
    "    - النسبة المئوية الـ 75 (الربع الثالث - Q3):\n",
    "    >  هي القيمة التي تحتها يقع 75% من نقاط البيانات. وتُمثل الربع الثالث من البيانات.."
   ]
  },
  {
   "cell_type": "markdown",
   "id": "1bc33d84-0d9c-4de7-9b15-39802e63efb3",
   "metadata": {},
   "source": [
    "\n"
   ]
  },
  {
   "cell_type": "markdown",
   "id": "dc4b5bbf-2c1f-441f-a71d-41e0ef4f4c0d",
   "metadata": {},
   "source": [
    "### Step 3: Conclusions "
   ]
  },
  {
   "cell_type": "markdown",
   "id": "0f2ec04b-98f7-4dc5-aab2-40694fc4c29c",
   "metadata": {},
   "source": [
    "1. Dataset contains 10 entries\n",
    "2. Dataset has 6 features/columns\n",
    "3. No null values exist in the dataset\n",
    "4. Average item prices is 0.67\n",
    "5. Max item price is 1.2\n",
    "6. Min item price is 0.4"
   ]
  },
  {
   "cell_type": "markdown",
   "id": "53fc78d0-1beb-49d4-b46b-8c842f49172c",
   "metadata": {},
   "source": [
    "## Step 3: Identify Missing Values"
   ]
  },
  {
   "cell_type": "code",
   "execution_count": null,
   "id": "fdad2e7e-016a-4f1c-b85c-720553da9540",
   "metadata": {},
   "outputs": [],
   "source": [
    "missing_values = data.isnull().sum()\n",
    "print(missing_values)"
   ]
  },
  {
   "cell_type": "markdown",
   "id": "814c6630-b8b2-450a-9a58-e16ad3313c52",
   "metadata": {},
   "source": [
    "## Step 4: Handle Missing Values"
   ]
  },
  {
   "cell_type": "code",
   "execution_count": null,
   "id": "8dff1f6f-c3dd-419b-983a-6f64b2344605",
   "metadata": {},
   "outputs": [],
   "source": [
    "data_cleaned = data.dropna() # The dropna() method removes rows with missing values\n",
    "# data_cleaned = data.fillna(10) # The fillna() method replaces the NULL values with a specified value"
   ]
  },
  {
   "cell_type": "markdown",
   "id": "75cf7874-4f56-4e28-a544-40a95240f8e8",
   "metadata": {},
   "source": [
    "## Step 5: Identify and Handle Outliers"
   ]
  },
  {
   "cell_type": "markdown",
   "id": "518914fc-de58-4921-bc7f-a53268c47e17",
   "metadata": {},
   "source": [
    "#### An outlier is a data point that lies outside the overall pattern in a distribution.\n",
    "A commonly used rule says that a data point is an outlier if it is more than 1.5*IQR above the third quartile or below the first quartile. \\\n",
    "**Low** outliers are below (Q1 - 1.5*IQR) and **high** outliers are above (Q3 + 1.5*IQR)"
   ]
  },
  {
   "cell_type": "code",
   "execution_count": null,
   "id": "afbc48b1-e541-4306-9d59-085c19027d93",
   "metadata": {},
   "outputs": [],
   "source": [
    "# Example: Remove outliers using the IQR method\n",
    "Q1 = data_cleaned['Quantity'].quantile(0.25)\n",
    "Q3 = data_cleaned['Quantity'].quantile(0.75)\n",
    "IQR = Q3 - Q1\n",
    "data_cleaned = data_cleaned[(data_cleaned['Quantity'] >= Q1 - 1.5*IQR) & (data_cleaned['Quantity'] <= Q3 + 1.5*IQR)]"
   ]
  },
  {
   "cell_type": "markdown",
   "id": "eb6f7c7b-2502-44b8-aaa2-4ff04c984b42",
   "metadata": {},
   "source": [
    "## Step 6: Data Type Conversion"
   ]
  },
  {
   "cell_type": "code",
   "execution_count": null,
   "id": "249d1f1d-d247-4fd0-903d-c037054ffa00",
   "metadata": {},
   "outputs": [],
   "source": [
    "data_cleaned['Date'] = pd.to_datetime(data_cleaned['Date'])\n",
    "data_cleaned.info()"
   ]
  },
  {
   "cell_type": "markdown",
   "id": "248302fd-ee92-4bf9-8bbf-3983d3cad65e",
   "metadata": {},
   "source": [
    "## Step 7: Data Cleaning (e.g., removing duplicates, standardizing text)"
   ]
  },
  {
   "cell_type": "code",
   "execution_count": null,
   "id": "38bea019-3ac8-4a93-9476-e1d75ccf9019",
   "metadata": {},
   "outputs": [],
   "source": [
    "data_cleaned = data_cleaned.drop_duplicates()\n",
    "data_cleaned['Product'] = data_cleaned['Product'].str.upper()"
   ]
  },
  {
   "cell_type": "markdown",
   "id": "2e8c4098-a92c-4db6-b653-27006700be84",
   "metadata": {},
   "source": [
    "## Step 8: Save the Cleaned Dataset"
   ]
  },
  {
   "cell_type": "code",
   "execution_count": null,
   "id": "46746232-b0f2-424f-b554-af1b8f11adf2",
   "metadata": {},
   "outputs": [],
   "source": [
    "data_cleaned.to_csv('cleaned_customer_transactions.csv', index=False)"
   ]
  },
  {
   "cell_type": "markdown",
   "id": "8896a305-882a-4f55-865c-4c14114c1359",
   "metadata": {},
   "source": [
    "## Additional Visual"
   ]
  },
  {
   "cell_type": "code",
   "execution_count": null,
   "id": "cbbf5db2-df92-4cf7-8318-9dc83984ac9d",
   "metadata": {},
   "outputs": [],
   "source": [
    "import seaborn as sns\n",
    "sns.histplot(data_cleaned['Price'])"
   ]
  }
 ],
 "metadata": {
  "kernelspec": {
   "display_name": "Python 3 (ipykernel)",
   "language": "python",
   "name": "python3"
  },
  "language_info": {
   "codemirror_mode": {
    "name": "ipython",
    "version": 3
   },
   "file_extension": ".py",
   "mimetype": "text/x-python",
   "name": "python",
   "nbconvert_exporter": "python",
   "pygments_lexer": "ipython3",
   "version": "3.10.12"
  }
 },
 "nbformat": 4,
 "nbformat_minor": 5
}
